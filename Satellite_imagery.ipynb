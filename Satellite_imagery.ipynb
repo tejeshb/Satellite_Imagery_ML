{
  "nbformat": 4,
  "nbformat_minor": 0,
  "metadata": {
    "colab": {
      "name": "Satellite_imagery.ipynb",
      "provenance": [],
      "collapsed_sections": [],
      "mount_file_id": "12iy4wiuR66NwsDtB2EOMc-QUc51JV8Fa",
      "authorship_tag": "ABX9TyM5rSpEgh/scS8QrqnG1UeA",
      "include_colab_link": true
    },
    "kernelspec": {
      "name": "python3",
      "display_name": "Python 3"
    },
    "language_info": {
      "name": "python"
    },
    "accelerator": "GPU"
  },
  "cells": [
    {
      "cell_type": "markdown",
      "metadata": {
        "id": "view-in-github",
        "colab_type": "text"
      },
      "source": [
        "<a href=\"https://colab.research.google.com/github/tejeshb/Satellite_Imagery_ML/blob/main/Satellite_imagery.ipynb\" target=\"_parent\"><img src=\"https://colab.research.google.com/assets/colab-badge.svg\" alt=\"Open In Colab\"/></a>"
      ]
    },
    {
      "cell_type": "code",
      "metadata": {
        "id": "eXr4fqi3QL0l"
      },
      "source": [
        "# Import Libraries\n",
        "\n",
        "import numpy as np\n",
        "import pandas as pd\n",
        "import matplotlib.pyplot as plt\n",
        "import seaborn as sns\n",
        "\n",
        "import tensorflow as tf\n",
        "from tensorflow.keras.applications import VGG16\n",
        "from tensorflow.keras.utils import plot_model\n",
        "from tensorflow.keras.models import load_model\n",
        "\n",
        "from sklearn.model_selection import train_test_split\n",
        "from sklearn import metrics\n",
        "\n"
      ],
      "execution_count": null,
      "outputs": []
    },
    {
      "cell_type": "code",
      "metadata": {
        "id": "20Gu95z6YGww"
      },
      "source": [
        "# Load data"
      ],
      "execution_count": null,
      "outputs": []
    },
    {
      "cell_type": "code",
      "metadata": {
        "id": "yjiIEbHoYKGr"
      },
      "source": [
        "# Import PyDrive and associated libraries.\n",
        "from pydrive.auth import GoogleAuth\n",
        "from pydrive.drive import GoogleDrive\n",
        "from google.colab import auth\n",
        "from oauth2client.client import GoogleCredentials"
      ],
      "execution_count": null,
      "outputs": []
    },
    {
      "cell_type": "code",
      "metadata": {
        "id": "B6V2Wutbh3nM"
      },
      "source": [
        " #Authenticate and create the PyDrive client.\n",
        "# This only needs to be done once per notebook.\n",
        "auth.authenticate_user()\n",
        "gauth = GoogleAuth()\n",
        "gauth.credentials = GoogleCredentials.get_application_default()\n",
        "drive = GoogleDrive(gauth)\n",
        "\n"
      ],
      "execution_count": null,
      "outputs": []
    },
    {
      "cell_type": "code",
      "metadata": {
        "id": "FG1HXX9CiQxn"
      },
      "source": [
        "data = np.load('/content/drive/MyDrive/MOOC_dataset.npz') # You can download the dataset from www.wekeo.eu"
      ],
      "execution_count": null,
      "outputs": []
    },
    {
      "cell_type": "code",
      "metadata": {
        "colab": {
          "base_uri": "https://localhost:8080/"
        },
        "id": "RhCSqndFjBby",
        "outputId": "192f9c12-970a-4103-9a76-a4fe56333bcc"
      },
      "source": [
        "files = data.files\n",
        "print(files)"
      ],
      "execution_count": null,
      "outputs": [
        {
          "output_type": "stream",
          "name": "stdout",
          "text": [
            "['image', 'label']\n"
          ]
        }
      ]
    },
    {
      "cell_type": "code",
      "metadata": {
        "colab": {
          "base_uri": "https://localhost:8080/"
        },
        "id": "WptrSMMajJ9M",
        "outputId": "3085f958-6dd7-4e0f-f418-61433c9f4af8"
      },
      "source": [
        "print('Shape - \"Image\" item: ' + str(data['image'].shape))\n",
        "print('Shape - \"Label\" item: ' + str(data['label'].shape))"
      ],
      "execution_count": null,
      "outputs": [
        {
          "output_type": "stream",
          "name": "stdout",
          "text": [
            "Shape - \"Image\" item: (2805, 128, 128)\n",
            "Shape - \"Label\" item: (2805,)\n"
          ]
        }
      ]
    },
    {
      "cell_type": "code",
      "metadata": {
        "colab": {
          "base_uri": "https://localhost:8080/"
        },
        "id": "bCsYjMmvjcxY",
        "outputId": "4363a26a-49ed-456f-90c1-7532d0067f13"
      },
      "source": [
        "data['image'][1500].shape"
      ],
      "execution_count": null,
      "outputs": [
        {
          "output_type": "execute_result",
          "data": {
            "text/plain": [
              "(128, 128)"
            ]
          },
          "metadata": {},
          "execution_count": 8
        }
      ]
    },
    {
      "cell_type": "code",
      "metadata": {
        "colab": {
          "base_uri": "https://localhost:8080/",
          "height": 298
        },
        "id": "l6TDU84pfjHk",
        "outputId": "dd936030-9aa9-44ea-92c0-4c300e9cd784"
      },
      "source": [
        "plt.imshow(data['image'][1200])\n",
        "plt.title(\"Ship Class: Container\")"
      ],
      "execution_count": null,
      "outputs": [
        {
          "output_type": "execute_result",
          "data": {
            "text/plain": [
              "Text(0.5, 1.0, 'Ship Class: Container')"
            ]
          },
          "metadata": {},
          "execution_count": 10
        },
        {
          "output_type": "display_data",
          "data": {
            "image/png": "[encoded data removed]",
            "text/plain": [
              "<Figure size 432x288 with 1 Axes>"
            ]
          },
          "metadata": {
            "needs_background": "light"
          }
        }
      ]
    },
    {
      "cell_type": "code",
      "metadata": {
        "colab": {
          "base_uri": "https://localhost:8080/",
          "height": 228
        },
        "id": "iPLta72Akiot",
        "outputId": "bb70790c-443c-41a3-a9c4-7a30c10bb96c"
      },
      "source": [
        "# code for displaying multiple images in one figure\n",
        "\n",
        "#import libraries\n",
        "import cv2\n",
        "#from matplotlib import pyplot as plt\n",
        "\n",
        "# create figure\n",
        "fig = plt.figure(figsize=(10, 7))\n",
        "\n",
        "# setting values to rows and column variables\n",
        "rows = 1\n",
        "columns = 3\n",
        "\n",
        "# reading images\n",
        "Image1 = data['image'][1,:,:]\n",
        "Image2 = data['image'][1500,:,:]\n",
        "Image3 = data['image'][2800,:,:]\n",
        "\n",
        "\n",
        "# Adds a subplot at the 1st position\n",
        "fig.add_subplot(rows, columns, 1)\n",
        "\n",
        "# showing image\n",
        "plt.imshow(Image1)\n",
        "plt.axis('off')\n",
        "plt.title(\"Ship Class: Bulk Carrier\")\n",
        "\n",
        "# Adds a subplot at the 2nd position\n",
        "fig.add_subplot(rows, columns, 2)\n",
        "\n",
        "# showing image\n",
        "plt.imshow(Image2)\n",
        "plt.axis('off')\n",
        "plt.title(\"Ship Class: Container Ship\")\n",
        "\n",
        "# Adds a subplot at the 3rd position\n",
        "fig.add_subplot(rows, columns, 3)\n",
        "\n",
        "# showing image\n",
        "plt.imshow(Image3)\n",
        "plt.axis('off')\n",
        "plt.title(\"Ship Class: Tanker\")\n",
        "\n"
      ],
      "execution_count": null,
      "outputs": [
        {
          "output_type": "execute_result",
          "data": {
            "text/plain": [
              "Text(0.5, 1.0, 'Ship Class: Tanker')"
            ]
          },
          "metadata": {},
          "execution_count": 10
        },
        {
          "output_type": "display_data",
          "data": {
            "image/png": "[encoded data removed]",
            "text/plain": [
              "<Figure size 720x504 with 3 Axes>"
            ]
          },
          "metadata": {
            "needs_background": "light"
          }
        }
      ]
    },
    {
      "cell_type": "code",
      "metadata": {
        "id": "Slr55v89oWUM"
      },
      "source": [
        "# Images and Labels\n",
        "X = data['image']\n",
        "y = data['label']"
      ],
      "execution_count": null,
      "outputs": []
    },
    {
      "cell_type": "code",
      "metadata": {
        "colab": {
          "base_uri": "https://localhost:8080/"
        },
        "id": "EOqsF56iwMKD",
        "outputId": "3e96de61-841b-453f-c3c9-f4194f2f76a5"
      },
      "source": [
        "# Instantiate the neural net\n",
        "\n",
        "inputs = tf.keras.layers.Input(shape=(128,128,1))\n",
        "print(inputs)"
      ],
      "execution_count": null,
      "outputs": [
        {
          "output_type": "stream",
          "name": "stdout",
          "text": [
            "KerasTensor(type_spec=TensorSpec(shape=(None, 128, 128, 1), dtype=tf.float32, name='input_1'), name='input_1', description=\"created by layer 'input_1'\")\n"
          ]
        }
      ]
    },
    {
      "cell_type": "markdown",
      "metadata": {
        "id": "AMNmrRJsy5WI"
      },
      "source": [
        "Now we are able to instantiate the VGG16 model. The tensorflow Keras API offers under tensorflow.keras.applications a set of models (canned architectures) with pre-trained weights and VGG16 is one of them. You can instantiate a VGG16 model with the following keyword arguments:\n",
        "\n",
        "include_top=False - we do not want to include the three fully-connected layers at the top of the network\n",
        "\n",
        "weights=None - by setting weights to None, we choose random initialization\n",
        "\n",
        "input_tensor=inputs - The input tensor is the inputs tensor created in the previous step\n",
        "pooling='avg' - global average pooling will be applied to the output of the last convolutional block and this means that the output of the model will be a two-dimensional tensor\n",
        "\n",
        "NOTE:\n",
        "Fully connected layers: By default, the algorithm would include three fully connected layers on top, but for training purposes, the example does not include them to give you an opportunity to play with hyperparameters in the next step."
      ]
    },
    {
      "cell_type": "code",
      "metadata": {
        "colab": {
          "base_uri": "https://localhost:8080/"
        },
        "id": "g22TeXCAwpls",
        "outputId": "dbf80a09-d0e9-4235-ca27-6df2370741b8"
      },
      "source": [
        "vgg = VGG16(include_top=False,\n",
        "            weights=None,\n",
        "            input_tensor=inputs,\n",
        "            pooling='avg')\n",
        "vgg"
      ],
      "execution_count": null,
      "outputs": [
        {
          "output_type": "execute_result",
          "data": {
            "text/plain": [
              "<keras.engine.functional.Functional at 0x7fd3603bdd50>"
            ]
          },
          "metadata": {},
          "execution_count": 14
        }
      ]
    },
    {
      "cell_type": "code",
      "metadata": {
        "colab": {
          "base_uri": "https://localhost:8080/"
        },
        "id": "WpXKVOJU1B7I",
        "outputId": "28a5aa67-c2ca-449e-d699-c2d9e96e08d7"
      },
      "source": [
        "inp = vgg.input\n",
        "inp"
      ],
      "execution_count": null,
      "outputs": [
        {
          "output_type": "execute_result",
          "data": {
            "text/plain": [
              "<KerasTensor: shape=(None, 128, 128, 1) dtype=float32 (created by layer 'input_1')>"
            ]
          },
          "metadata": {},
          "execution_count": 15
        }
      ]
    },
    {
      "cell_type": "code",
      "metadata": {
        "colab": {
          "base_uri": "https://localhost:8080/"
        },
        "id": "hAqzrnd4zaG3",
        "outputId": "8e57e977-0dcc-4627-febe-d3cc470d43d0"
      },
      "source": [
        "dense1 = tf.keras.layers.Dense(512, activation='relu')(vgg.output)\n",
        "dropout1 = tf.keras.layers.Dropout(0.5)(dense1)\n",
        "\n",
        "dense2 = tf.keras.layers.Dense(128, activation='relu')(dropout1)\n",
        "dropout2 = tf.keras.layers.Dropout(0.5)(dense2)\n",
        "\n",
        "pred = tf.keras.layers.Dense(3, activation='softmax')(dropout2)\n",
        "pred"
      ],
      "execution_count": null,
      "outputs": [
        {
          "output_type": "execute_result",
          "data": {
            "text/plain": [
              "<KerasTensor: shape=(None, 3) dtype=float32 (created by layer 'dense_2')>"
            ]
          },
          "metadata": {},
          "execution_count": 16
        }
      ]
    },
    {
      "cell_type": "code",
      "metadata": {
        "id": "K1F5Qg4M0t3S"
      },
      "source": [
        "model = tf.keras.Model(inp, pred)"
      ],
      "execution_count": null,
      "outputs": []
    },
    {
      "cell_type": "code",
      "metadata": {
        "colab": {
          "base_uri": "https://localhost:8080/"
        },
        "id": "4ckVFMlp07B0",
        "outputId": "6f390619-8695-46f4-f340-7acab7256bb4"
      },
      "source": [
        "model.summary()"
      ],
      "execution_count": null,
      "outputs": [
        {
          "output_type": "stream",
          "name": "stdout",
          "text": [
            "Model: \"model\"\n",
            "_________________________________________________________________\n",
            " Layer (type)                Output Shape              Param #   \n",
            "=================================================================\n",
            " input_1 (InputLayer)        [(None, 128, 128, 1)]     0         \n",
            "                                                                 \n",
            " block1_conv1 (Conv2D)       (None, 128, 128, 64)      640       \n",
            "                                                                 \n",
            " block1_conv2 (Conv2D)       (None, 128, 128, 64)      36928     \n",
            "                                                                 \n",
            " block1_pool (MaxPooling2D)  (None, 64, 64, 64)        0         \n",
            "                                                                 \n",
            " block2_conv1 (Conv2D)       (None, 64, 64, 128)       73856     \n",
            "                                                                 \n",
            " block2_conv2 (Conv2D)       (None, 64, 64, 128)       147584    \n",
            "                                                                 \n",
            " block2_pool (MaxPooling2D)  (None, 32, 32, 128)       0         \n",
            "                                                                 \n",
            " block3_conv1 (Conv2D)       (None, 32, 32, 256)       295168    \n",
            "                                                                 \n",
            " block3_conv2 (Conv2D)       (None, 32, 32, 256)       590080    \n",
            "                                                                 \n",
            " block3_conv3 (Conv2D)       (None, 32, 32, 256)       590080    \n",
            "                                                                 \n",
            " block3_pool (MaxPooling2D)  (None, 16, 16, 256)       0         \n",
            "                                                                 \n",
            " block4_conv1 (Conv2D)       (None, 16, 16, 512)       1180160   \n",
            "                                                                 \n",
            " block4_conv2 (Conv2D)       (None, 16, 16, 512)       2359808   \n",
            "                                                                 \n",
            " block4_conv3 (Conv2D)       (None, 16, 16, 512)       2359808   \n",
            "                                                                 \n",
            " block4_pool (MaxPooling2D)  (None, 8, 8, 512)         0         \n",
            "                                                                 \n",
            " block5_conv1 (Conv2D)       (None, 8, 8, 512)         2359808   \n",
            "                                                                 \n",
            " block5_conv2 (Conv2D)       (None, 8, 8, 512)         2359808   \n",
            "                                                                 \n",
            " block5_conv3 (Conv2D)       (None, 8, 8, 512)         2359808   \n",
            "                                                                 \n",
            " block5_pool (MaxPooling2D)  (None, 4, 4, 512)         0         \n",
            "                                                                 \n",
            " global_average_pooling2d (G  (None, 512)              0         \n",
            " lobalAveragePooling2D)                                          \n",
            "                                                                 \n",
            " dense (Dense)               (None, 512)               262656    \n",
            "                                                                 \n",
            " dropout (Dropout)           (None, 512)               0         \n",
            "                                                                 \n",
            " dense_1 (Dense)             (None, 128)               65664     \n",
            "                                                                 \n",
            " dropout_1 (Dropout)         (None, 128)               0         \n",
            "                                                                 \n",
            " dense_2 (Dense)             (None, 3)                 387       \n",
            "                                                                 \n",
            "=================================================================\n",
            "Total params: 15,042,243\n",
            "Trainable params: 15,042,243\n",
            "Non-trainable params: 0\n",
            "_________________________________________________________________\n"
          ]
        }
      ]
    },
    {
      "cell_type": "code",
      "metadata": {
        "colab": {
          "base_uri": "https://localhost:8080/"
        },
        "id": "8qvTxcPK1Fgn",
        "outputId": "35b3e69e-8bd8-4f07-b67f-0cd1bfa8b78f"
      },
      "source": [
        "opt = tf.keras.optimizers.SGD(learning_rate=0.001, momentum=0.9, nesterov=True, name='SGD')\n",
        "\n",
        "model.compile(optimizer=opt,\n",
        "              loss=tf.keras.losses.categorical_crossentropy,\n",
        "              metrics=['accuracy'])\n",
        "\n",
        "model"
      ],
      "execution_count": null,
      "outputs": [
        {
          "output_type": "execute_result",
          "data": {
            "text/plain": [
              "<keras.engine.functional.Functional at 0x7fd3603c3c10>"
            ]
          },
          "metadata": {},
          "execution_count": 19
        }
      ]
    },
    {
      "cell_type": "code",
      "metadata": {
        "id": "UPA3Z1lm2oGz"
      },
      "source": [
        "# Split data - Train and Test\n",
        "X_train, X_test, y_train, y_test = train_test_split(X, y,\n",
        "                                                    test_size=0.25,\n",
        "                                                    random_state=42)"
      ],
      "execution_count": null,
      "outputs": []
    },
    {
      "cell_type": "code",
      "metadata": {
        "colab": {
          "base_uri": "https://localhost:8080/"
        },
        "id": "dcRaxJ_D2u7N",
        "outputId": "963ed56a-7e56-42c7-a3af-beb310baa961"
      },
      "source": [
        "print(X_train.shape)\n",
        "print(X_test.shape)"
      ],
      "execution_count": null,
      "outputs": [
        {
          "output_type": "stream",
          "name": "stdout",
          "text": [
            "(2103, 128, 128)\n",
            "(702, 128, 128)\n"
          ]
        }
      ]
    },
    {
      "cell_type": "code",
      "metadata": {
        "id": "3DDdpWy-2xSC"
      },
      "source": [
        "y_train = tf.keras.utils.to_categorical(y_train, num_classes=3)\n",
        "y_test = tf.keras.utils.to_categorical(y_test, num_classes=3)"
      ],
      "execution_count": null,
      "outputs": []
    },
    {
      "cell_type": "code",
      "metadata": {
        "id": "R0hrIPne22-G"
      },
      "source": [
        "check = tf.keras.callbacks.ModelCheckpoint('./vgg.h5',\n",
        "                                           monitor='val_accuracy',\n",
        "                                           verbose=0,\n",
        "                                           save_best_only=True, mode='auto')"
      ],
      "execution_count": null,
      "outputs": []
    },
    {
      "cell_type": "code",
      "metadata": {
        "id": "pVnS1v_Y3D-a"
      },
      "source": [
        "log = tf.keras.callbacks.CSVLogger('./vgg.txt')"
      ],
      "execution_count": null,
      "outputs": []
    },
    {
      "cell_type": "code",
      "metadata": {
        "colab": {
          "base_uri": "https://localhost:8080/"
        },
        "id": "_96qy7gu3Hd3",
        "outputId": "745dee68-e4d5-401f-9193-81f31b399060"
      },
      "source": [
        "import multiprocessing\n",
        "from timeit import default_timer as timer\n",
        "\n",
        "start = timer()\n",
        "cpu_count = multiprocessing.cpu_count()\n",
        "print(f\"cpu: {cpu_count} found\")\n",
        "\n",
        "model.fit(X_train, y_train,\n",
        "          batch_size=12,\n",
        "          epochs=50,\n",
        "#          epochs=150,\n",
        "          verbose=1,\n",
        "          validation_data=(X_test, y_test),\n",
        "          steps_per_epoch = 25,\n",
        "          max_queue_size=10,\n",
        "          workers=cpu_count,\n",
        "          use_multiprocessing=cpu_count > 1,\n",
        "          callbacks=[check, log])\n",
        "\n",
        "end = timer()\n",
        "print('Elapsed time: ' + str(end - start))"
      ],
      "execution_count": null,
      "outputs": [
        {
          "output_type": "stream",
          "name": "stdout",
          "text": [
            "cpu: 2 found\n",
            "Epoch 1/50\n",
            "25/25 [==============================] - 41s 305ms/step - loss: 1.0972 - accuracy: 0.4067 - val_loss: 1.0955 - val_accuracy: 0.4017\n",
            "Epoch 2/50\n",
            "25/25 [==============================] - 6s 234ms/step - loss: 1.0965 - accuracy: 0.3867 - val_loss: 1.0935 - val_accuracy: 0.4017\n",
            "Epoch 3/50\n",
            "25/25 [==============================] - 6s 238ms/step - loss: 1.0890 - accuracy: 0.4367 - val_loss: 1.0916 - val_accuracy: 0.4017\n",
            "Epoch 4/50\n",
            "25/25 [==============================] - 6s 235ms/step - loss: 1.0912 - accuracy: 0.4000 - val_loss: 1.0900 - val_accuracy: 0.4017\n",
            "Epoch 5/50\n",
            "25/25 [==============================] - 6s 235ms/step - loss: 1.0939 - accuracy: 0.3833 - val_loss: 1.0894 - val_accuracy: 0.4017\n",
            "Epoch 6/50\n",
            "25/25 [==============================] - 6s 240ms/step - loss: 1.0935 - accuracy: 0.3800 - val_loss: 1.0893 - val_accuracy: 0.4017\n",
            "Epoch 7/50\n",
            "25/25 [==============================] - 6s 236ms/step - loss: 1.0771 - accuracy: 0.4733 - val_loss: 1.0884 - val_accuracy: 0.4017\n",
            "Epoch 8/50\n",
            "25/25 [==============================] - 8s 238ms/step - loss: 1.0774 - accuracy: 0.4433 - val_loss: 1.0881 - val_accuracy: 0.4017\n",
            "Epoch 9/50\n",
            "25/25 [==============================] - 6s 237ms/step - loss: 1.0823 - accuracy: 0.4167 - val_loss: 1.0881 - val_accuracy: 0.4017\n",
            "Epoch 10/50\n",
            "25/25 [==============================] - 6s 238ms/step - loss: 1.0855 - accuracy: 0.4067 - val_loss: 1.0881 - val_accuracy: 0.4017\n",
            "Epoch 11/50\n",
            "25/25 [==============================] - 6s 238ms/step - loss: 1.0877 - accuracy: 0.4067 - val_loss: 1.0881 - val_accuracy: 0.4017\n",
            "Epoch 12/50\n",
            "25/25 [==============================] - 6s 239ms/step - loss: 1.0940 - accuracy: 0.3833 - val_loss: 1.0881 - val_accuracy: 0.4017\n",
            "Epoch 13/50\n",
            "25/25 [==============================] - 6s 238ms/step - loss: 1.0862 - accuracy: 0.4133 - val_loss: 1.0881 - val_accuracy: 0.4017\n",
            "Epoch 14/50\n",
            "25/25 [==============================] - 6s 239ms/step - loss: 1.0835 - accuracy: 0.4100 - val_loss: 1.0881 - val_accuracy: 0.4017\n",
            "Epoch 15/50\n",
            "25/25 [==============================] - 6s 236ms/step - loss: 1.0790 - accuracy: 0.4227 - val_loss: 1.0883 - val_accuracy: 0.4017\n",
            "Epoch 16/50\n",
            "25/25 [==============================] - 6s 239ms/step - loss: 1.0983 - accuracy: 0.3733 - val_loss: 1.0883 - val_accuracy: 0.4017\n",
            "Epoch 17/50\n",
            "25/25 [==============================] - 6s 239ms/step - loss: 1.0789 - accuracy: 0.4400 - val_loss: 1.0883 - val_accuracy: 0.4017\n",
            "Epoch 18/50\n",
            "25/25 [==============================] - 6s 239ms/step - loss: 1.0880 - accuracy: 0.4067 - val_loss: 1.0882 - val_accuracy: 0.4017\n",
            "Epoch 19/50\n",
            "25/25 [==============================] - 6s 239ms/step - loss: 1.0833 - accuracy: 0.4067 - val_loss: 1.0883 - val_accuracy: 0.4017\n",
            "Epoch 20/50\n",
            "25/25 [==============================] - 6s 239ms/step - loss: 1.0828 - accuracy: 0.4300 - val_loss: 1.0883 - val_accuracy: 0.4017\n",
            "Epoch 21/50\n",
            "25/25 [==============================] - 6s 241ms/step - loss: 1.0911 - accuracy: 0.4000 - val_loss: 1.0881 - val_accuracy: 0.4017\n",
            "Epoch 22/50\n",
            "25/25 [==============================] - 6s 239ms/step - loss: 1.0837 - accuracy: 0.4158 - val_loss: 1.0882 - val_accuracy: 0.4017\n",
            "Epoch 23/50\n",
            "25/25 [==============================] - 6s 237ms/step - loss: 1.0906 - accuracy: 0.4000 - val_loss: 1.0882 - val_accuracy: 0.4017\n",
            "Epoch 24/50\n",
            "25/25 [==============================] - 6s 239ms/step - loss: 1.0829 - accuracy: 0.4100 - val_loss: 1.0882 - val_accuracy: 0.4017\n",
            "Epoch 25/50\n",
            "25/25 [==============================] - 6s 239ms/step - loss: 1.0688 - accuracy: 0.4700 - val_loss: 1.0887 - val_accuracy: 0.4017\n",
            "Epoch 26/50\n",
            "25/25 [==============================] - 6s 238ms/step - loss: 1.0784 - accuracy: 0.4267 - val_loss: 1.0891 - val_accuracy: 0.4017\n",
            "Epoch 27/50\n",
            "25/25 [==============================] - 6s 239ms/step - loss: 1.0869 - accuracy: 0.4100 - val_loss: 1.0891 - val_accuracy: 0.4017\n",
            "Epoch 28/50\n",
            "25/25 [==============================] - 6s 239ms/step - loss: 1.0969 - accuracy: 0.3800 - val_loss: 1.0884 - val_accuracy: 0.4017\n",
            "Epoch 29/50\n",
            "25/25 [==============================] - 6s 237ms/step - loss: 1.0960 - accuracy: 0.3780 - val_loss: 1.0881 - val_accuracy: 0.4017\n",
            "Epoch 30/50\n",
            "25/25 [==============================] - 6s 239ms/step - loss: 1.0736 - accuracy: 0.4367 - val_loss: 1.0883 - val_accuracy: 0.4017\n",
            "Epoch 31/50\n",
            "25/25 [==============================] - 6s 239ms/step - loss: 1.1061 - accuracy: 0.3533 - val_loss: 1.0881 - val_accuracy: 0.4017\n",
            "Epoch 32/50\n",
            "25/25 [==============================] - 6s 240ms/step - loss: 1.0763 - accuracy: 0.4467 - val_loss: 1.0881 - val_accuracy: 0.4017\n",
            "Epoch 33/50\n",
            "25/25 [==============================] - 6s 238ms/step - loss: 1.0960 - accuracy: 0.3767 - val_loss: 1.0881 - val_accuracy: 0.4017\n",
            "Epoch 34/50\n",
            "25/25 [==============================] - 6s 238ms/step - loss: 1.0810 - accuracy: 0.4300 - val_loss: 1.0881 - val_accuracy: 0.4017\n",
            "Epoch 35/50\n",
            "25/25 [==============================] - 6s 238ms/step - loss: 1.0657 - accuracy: 0.4733 - val_loss: 1.0886 - val_accuracy: 0.4017\n",
            "Epoch 36/50\n",
            "25/25 [==============================] - 6s 237ms/step - loss: 1.1008 - accuracy: 0.3677 - val_loss: 1.0882 - val_accuracy: 0.4017\n",
            "Epoch 37/50\n",
            "25/25 [==============================] - 6s 239ms/step - loss: 1.0795 - accuracy: 0.4333 - val_loss: 1.0883 - val_accuracy: 0.4017\n",
            "Epoch 38/50\n",
            "25/25 [==============================] - 6s 238ms/step - loss: 1.0855 - accuracy: 0.4033 - val_loss: 1.0884 - val_accuracy: 0.4017\n",
            "Epoch 39/50\n",
            "25/25 [==============================] - 6s 241ms/step - loss: 1.0878 - accuracy: 0.4033 - val_loss: 1.0884 - val_accuracy: 0.4017\n",
            "Epoch 40/50\n",
            "25/25 [==============================] - 6s 239ms/step - loss: 1.0797 - accuracy: 0.4267 - val_loss: 1.0884 - val_accuracy: 0.4017\n",
            "Epoch 41/50\n",
            "25/25 [==============================] - 6s 239ms/step - loss: 1.0854 - accuracy: 0.4000 - val_loss: 1.0885 - val_accuracy: 0.4017\n",
            "Epoch 42/50\n",
            "25/25 [==============================] - 6s 239ms/step - loss: 1.0866 - accuracy: 0.4167 - val_loss: 1.0883 - val_accuracy: 0.4017\n",
            "Epoch 43/50\n",
            "25/25 [==============================] - 6s 236ms/step - loss: 1.0620 - accuracy: 0.4742 - val_loss: 1.0891 - val_accuracy: 0.4017\n",
            "Epoch 44/50\n",
            "25/25 [==============================] - 6s 238ms/step - loss: 1.0921 - accuracy: 0.3967 - val_loss: 1.0890 - val_accuracy: 0.4017\n",
            "Epoch 45/50\n",
            "25/25 [==============================] - 6s 239ms/step - loss: 1.1066 - accuracy: 0.3700 - val_loss: 1.0883 - val_accuracy: 0.4017\n",
            "Epoch 46/50\n",
            "25/25 [==============================] - 6s 239ms/step - loss: 1.0913 - accuracy: 0.3900 - val_loss: 1.0881 - val_accuracy: 0.4017\n",
            "Epoch 47/50\n",
            "25/25 [==============================] - 6s 239ms/step - loss: 1.0721 - accuracy: 0.4533 - val_loss: 1.0883 - val_accuracy: 0.4017\n",
            "Epoch 48/50\n",
            "25/25 [==============================] - 6s 239ms/step - loss: 1.0851 - accuracy: 0.4100 - val_loss: 1.0884 - val_accuracy: 0.4017\n",
            "Epoch 49/50\n",
            "25/25 [==============================] - 6s 239ms/step - loss: 1.0904 - accuracy: 0.4033 - val_loss: 1.0882 - val_accuracy: 0.4017\n",
            "Epoch 50/50\n",
            "25/25 [==============================] - 6s 237ms/step - loss: 1.1028 - accuracy: 0.3643 - val_loss: 1.0881 - val_accuracy: 0.4017\n",
            "Elapsed time: 383.410621205\n"
          ]
        }
      ]
    },
    {
      "cell_type": "code",
      "metadata": {
        "colab": {
          "base_uri": "https://localhost:8080/"
        },
        "id": "Yr2hjFSf3OH7",
        "outputId": "2a11c195-0fd9-47c5-f4ed-026b2e377329"
      },
      "source": [
        "model = load_model('./vgg.h5')\n",
        "\n",
        "_, test_acc = model.evaluate(X_test, y_test)\n",
        "\n",
        "print('Test_acc: %.4f' % test_acc)"
      ],
      "execution_count": null,
      "outputs": [
        {
          "output_type": "stream",
          "name": "stdout",
          "text": [
            "22/22 [==============================] - 9s 236ms/step - loss: 1.0955 - accuracy: 0.4017\n",
            "Test_acc: 0.4017\n"
          ]
        }
      ]
    }
  ]
}